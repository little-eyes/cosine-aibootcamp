{
 "cells": [
  {
   "cell_type": "code",
   "execution_count": 1,
   "metadata": {},
   "outputs": [],
   "source": [
    "# load necessary packages.\n",
    "import pandas as pd\n",
    "import seaborn as sns"
   ]
  },
  {
   "cell_type": "code",
   "execution_count": 6,
   "metadata": {},
   "outputs": [
    {
     "data": {
      "text/html": [
       "<div>\n",
       "<style scoped>\n",
       "    .dataframe tbody tr th:only-of-type {\n",
       "        vertical-align: middle;\n",
       "    }\n",
       "\n",
       "    .dataframe tbody tr th {\n",
       "        vertical-align: top;\n",
       "    }\n",
       "\n",
       "    .dataframe thead th {\n",
       "        text-align: right;\n",
       "    }\n",
       "</style>\n",
       "<table border=\"1\" class=\"dataframe\">\n",
       "  <thead>\n",
       "    <tr style=\"text-align: right;\">\n",
       "      <th></th>\n",
       "      <th>EventDate</th>\n",
       "      <th>Branch</th>\n",
       "      <th>BuildNum</th>\n",
       "      <th>BuildRev</th>\n",
       "      <th>ResultCreatedTime</th>\n",
       "      <th>Value</th>\n",
       "      <th>Usage</th>\n",
       "      <th>Platform</th>\n",
       "      <th>Pivot3</th>\n",
       "      <th>Pivot4</th>\n",
       "      <th>DataSource</th>\n",
       "      <th>Ring</th>\n",
       "      <th>SKU</th>\n",
       "      <th>Ver1</th>\n",
       "      <th>Ver2</th>\n",
       "      <th>Ver3</th>\n",
       "      <th>Ver4</th>\n",
       "    </tr>\n",
       "  </thead>\n",
       "  <tbody>\n",
       "    <tr>\n",
       "      <th>0</th>\n",
       "      <td>2015-11-02T00:00:00</td>\n",
       "      <td>th2_release</td>\n",
       "      <td>10512</td>\n",
       "      <td>1000</td>\n",
       "      <td>2015-09-16T00:00:00</td>\n",
       "      <td>176.056671</td>\n",
       "      <td>3</td>\n",
       "      <td>Mobile</td>\n",
       "      <td>Other</td>\n",
       "      <td>Other</td>\n",
       "      <td>Telemetry</td>\n",
       "      <td>Windows Insiders</td>\n",
       "      <td>Mobile</td>\n",
       "      <td>0</td>\n",
       "      <td>0</td>\n",
       "      <td>0</td>\n",
       "      <td>0</td>\n",
       "    </tr>\n",
       "    <tr>\n",
       "      <th>1</th>\n",
       "      <td>2015-11-02T00:00:00</td>\n",
       "      <td>th2_release</td>\n",
       "      <td>10512</td>\n",
       "      <td>1000</td>\n",
       "      <td>2015-09-16T00:00:00</td>\n",
       "      <td>176.056671</td>\n",
       "      <td>3</td>\n",
       "      <td>Mobile</td>\n",
       "      <td>NaN</td>\n",
       "      <td>NaN</td>\n",
       "      <td>Telemetry</td>\n",
       "      <td>Windows Insiders</td>\n",
       "      <td>Mobile</td>\n",
       "      <td>0</td>\n",
       "      <td>0</td>\n",
       "      <td>0</td>\n",
       "      <td>0</td>\n",
       "    </tr>\n",
       "    <tr>\n",
       "      <th>2</th>\n",
       "      <td>2015-11-02T00:00:00</td>\n",
       "      <td>th2_release</td>\n",
       "      <td>10512</td>\n",
       "      <td>1000</td>\n",
       "      <td>2015-10-31T00:00:00</td>\n",
       "      <td>626.085600</td>\n",
       "      <td>4</td>\n",
       "      <td>Mobile</td>\n",
       "      <td>Other</td>\n",
       "      <td>Other</td>\n",
       "      <td>Telemetry</td>\n",
       "      <td>Windows Insiders</td>\n",
       "      <td>Mobile</td>\n",
       "      <td>0</td>\n",
       "      <td>0</td>\n",
       "      <td>0</td>\n",
       "      <td>0</td>\n",
       "    </tr>\n",
       "    <tr>\n",
       "      <th>3</th>\n",
       "      <td>2015-11-02T00:00:00</td>\n",
       "      <td>th2_release</td>\n",
       "      <td>10512</td>\n",
       "      <td>1000</td>\n",
       "      <td>2015-10-31T00:00:00</td>\n",
       "      <td>626.085600</td>\n",
       "      <td>4</td>\n",
       "      <td>Mobile</td>\n",
       "      <td>NaN</td>\n",
       "      <td>NaN</td>\n",
       "      <td>Telemetry</td>\n",
       "      <td>Windows Insiders</td>\n",
       "      <td>Mobile</td>\n",
       "      <td>0</td>\n",
       "      <td>0</td>\n",
       "      <td>0</td>\n",
       "      <td>0</td>\n",
       "    </tr>\n",
       "    <tr>\n",
       "      <th>4</th>\n",
       "      <td>2015-11-02T00:00:00</td>\n",
       "      <td>th2_release</td>\n",
       "      <td>10512</td>\n",
       "      <td>1000</td>\n",
       "      <td>2015-11-02T00:00:00</td>\n",
       "      <td>400.285700</td>\n",
       "      <td>2495</td>\n",
       "      <td>Mobile</td>\n",
       "      <td>Other</td>\n",
       "      <td>Other</td>\n",
       "      <td>Telemetry</td>\n",
       "      <td>Windows Insiders</td>\n",
       "      <td>Mobile</td>\n",
       "      <td>0</td>\n",
       "      <td>0</td>\n",
       "      <td>0</td>\n",
       "      <td>0</td>\n",
       "    </tr>\n",
       "    <tr>\n",
       "      <th>5</th>\n",
       "      <td>2015-11-02T00:00:00</td>\n",
       "      <td>th2_release</td>\n",
       "      <td>10512</td>\n",
       "      <td>1000</td>\n",
       "      <td>2015-11-02T00:00:00</td>\n",
       "      <td>449.899841</td>\n",
       "      <td>14</td>\n",
       "      <td>Mobile</td>\n",
       "      <td>Other</td>\n",
       "      <td>Other</td>\n",
       "      <td>Telemetry</td>\n",
       "      <td>MSIT</td>\n",
       "      <td>Mobile</td>\n",
       "      <td>0</td>\n",
       "      <td>0</td>\n",
       "      <td>0</td>\n",
       "      <td>0</td>\n",
       "    </tr>\n",
       "    <tr>\n",
       "      <th>6</th>\n",
       "      <td>2015-11-02T00:00:00</td>\n",
       "      <td>th2_release</td>\n",
       "      <td>10512</td>\n",
       "      <td>1000</td>\n",
       "      <td>2015-11-02T00:00:00</td>\n",
       "      <td>400.285700</td>\n",
       "      <td>2495</td>\n",
       "      <td>Mobile</td>\n",
       "      <td>NaN</td>\n",
       "      <td>NaN</td>\n",
       "      <td>Telemetry</td>\n",
       "      <td>Windows Insiders</td>\n",
       "      <td>Mobile</td>\n",
       "      <td>0</td>\n",
       "      <td>0</td>\n",
       "      <td>0</td>\n",
       "      <td>0</td>\n",
       "    </tr>\n",
       "    <tr>\n",
       "      <th>7</th>\n",
       "      <td>2015-11-02T00:00:00</td>\n",
       "      <td>th2_release</td>\n",
       "      <td>10512</td>\n",
       "      <td>1000</td>\n",
       "      <td>2015-11-02T00:00:00</td>\n",
       "      <td>449.899841</td>\n",
       "      <td>14</td>\n",
       "      <td>Mobile</td>\n",
       "      <td>NaN</td>\n",
       "      <td>NaN</td>\n",
       "      <td>Telemetry</td>\n",
       "      <td>MSIT</td>\n",
       "      <td>Mobile</td>\n",
       "      <td>0</td>\n",
       "      <td>0</td>\n",
       "      <td>0</td>\n",
       "      <td>0</td>\n",
       "    </tr>\n",
       "    <tr>\n",
       "      <th>8</th>\n",
       "      <td>2015-11-02T00:00:00</td>\n",
       "      <td>th2_release</td>\n",
       "      <td>10512</td>\n",
       "      <td>1000</td>\n",
       "      <td>2015-11-03T00:00:00</td>\n",
       "      <td>414.818600</td>\n",
       "      <td>480</td>\n",
       "      <td>Mobile</td>\n",
       "      <td>Other</td>\n",
       "      <td>Other</td>\n",
       "      <td>Telemetry</td>\n",
       "      <td>Windows Insiders</td>\n",
       "      <td>Mobile</td>\n",
       "      <td>0</td>\n",
       "      <td>0</td>\n",
       "      <td>0</td>\n",
       "      <td>0</td>\n",
       "    </tr>\n",
       "    <tr>\n",
       "      <th>9</th>\n",
       "      <td>2015-11-02T00:00:00</td>\n",
       "      <td>th2_release</td>\n",
       "      <td>10512</td>\n",
       "      <td>1000</td>\n",
       "      <td>2015-11-03T00:00:00</td>\n",
       "      <td>414.818600</td>\n",
       "      <td>480</td>\n",
       "      <td>Mobile</td>\n",
       "      <td>NaN</td>\n",
       "      <td>NaN</td>\n",
       "      <td>Telemetry</td>\n",
       "      <td>Windows Insiders</td>\n",
       "      <td>Mobile</td>\n",
       "      <td>0</td>\n",
       "      <td>0</td>\n",
       "      <td>0</td>\n",
       "      <td>0</td>\n",
       "    </tr>\n",
       "    <tr>\n",
       "      <th>10</th>\n",
       "      <td>2015-11-02T00:00:00</td>\n",
       "      <td>th2_release</td>\n",
       "      <td>10512</td>\n",
       "      <td>1000</td>\n",
       "      <td>2015-11-04T00:00:00</td>\n",
       "      <td>358.600525</td>\n",
       "      <td>187</td>\n",
       "      <td>Mobile</td>\n",
       "      <td>Other</td>\n",
       "      <td>Other</td>\n",
       "      <td>Telemetry</td>\n",
       "      <td>Windows Insiders</td>\n",
       "      <td>Mobile</td>\n",
       "      <td>0</td>\n",
       "      <td>0</td>\n",
       "      <td>0</td>\n",
       "      <td>0</td>\n",
       "    </tr>\n",
       "    <tr>\n",
       "      <th>11</th>\n",
       "      <td>2015-11-02T00:00:00</td>\n",
       "      <td>th2_release</td>\n",
       "      <td>10512</td>\n",
       "      <td>1000</td>\n",
       "      <td>2015-11-04T00:00:00</td>\n",
       "      <td>358.600525</td>\n",
       "      <td>187</td>\n",
       "      <td>Mobile</td>\n",
       "      <td>NaN</td>\n",
       "      <td>NaN</td>\n",
       "      <td>Telemetry</td>\n",
       "      <td>Windows Insiders</td>\n",
       "      <td>Mobile</td>\n",
       "      <td>0</td>\n",
       "      <td>0</td>\n",
       "      <td>0</td>\n",
       "      <td>0</td>\n",
       "    </tr>\n",
       "    <tr>\n",
       "      <th>12</th>\n",
       "      <td>2015-11-02T00:00:00</td>\n",
       "      <td>th2_release</td>\n",
       "      <td>10512</td>\n",
       "      <td>1000</td>\n",
       "      <td>2015-11-05T00:00:00</td>\n",
       "      <td>354.782623</td>\n",
       "      <td>1</td>\n",
       "      <td>Mobile</td>\n",
       "      <td>Other</td>\n",
       "      <td>Other</td>\n",
       "      <td>Telemetry</td>\n",
       "      <td>Windows Insiders</td>\n",
       "      <td>Unknown</td>\n",
       "      <td>0</td>\n",
       "      <td>0</td>\n",
       "      <td>0</td>\n",
       "      <td>0</td>\n",
       "    </tr>\n",
       "    <tr>\n",
       "      <th>13</th>\n",
       "      <td>2015-11-02T00:00:00</td>\n",
       "      <td>th2_release</td>\n",
       "      <td>10512</td>\n",
       "      <td>1000</td>\n",
       "      <td>2015-11-05T00:00:00</td>\n",
       "      <td>540.775300</td>\n",
       "      <td>51</td>\n",
       "      <td>Mobile</td>\n",
       "      <td>Other</td>\n",
       "      <td>Other</td>\n",
       "      <td>Telemetry</td>\n",
       "      <td>Windows Insiders</td>\n",
       "      <td>Mobile</td>\n",
       "      <td>0</td>\n",
       "      <td>0</td>\n",
       "      <td>0</td>\n",
       "      <td>0</td>\n",
       "    </tr>\n",
       "    <tr>\n",
       "      <th>14</th>\n",
       "      <td>2015-11-02T00:00:00</td>\n",
       "      <td>th2_release</td>\n",
       "      <td>10512</td>\n",
       "      <td>1000</td>\n",
       "      <td>2015-11-05T00:00:00</td>\n",
       "      <td>354.782623</td>\n",
       "      <td>1</td>\n",
       "      <td>Mobile</td>\n",
       "      <td>NaN</td>\n",
       "      <td>NaN</td>\n",
       "      <td>Telemetry</td>\n",
       "      <td>Windows Insiders</td>\n",
       "      <td>Unknown</td>\n",
       "      <td>0</td>\n",
       "      <td>0</td>\n",
       "      <td>0</td>\n",
       "      <td>0</td>\n",
       "    </tr>\n",
       "    <tr>\n",
       "      <th>15</th>\n",
       "      <td>2015-11-02T00:00:00</td>\n",
       "      <td>th2_release</td>\n",
       "      <td>10512</td>\n",
       "      <td>1000</td>\n",
       "      <td>2015-11-05T00:00:00</td>\n",
       "      <td>540.775300</td>\n",
       "      <td>51</td>\n",
       "      <td>Mobile</td>\n",
       "      <td>NaN</td>\n",
       "      <td>NaN</td>\n",
       "      <td>Telemetry</td>\n",
       "      <td>Windows Insiders</td>\n",
       "      <td>Mobile</td>\n",
       "      <td>0</td>\n",
       "      <td>0</td>\n",
       "      <td>0</td>\n",
       "      <td>0</td>\n",
       "    </tr>\n",
       "    <tr>\n",
       "      <th>16</th>\n",
       "      <td>2015-11-02T00:00:00</td>\n",
       "      <td>th2_release</td>\n",
       "      <td>10512</td>\n",
       "      <td>1000</td>\n",
       "      <td>2015-11-06T00:00:00</td>\n",
       "      <td>435.843231</td>\n",
       "      <td>56</td>\n",
       "      <td>Mobile</td>\n",
       "      <td>Other</td>\n",
       "      <td>Other</td>\n",
       "      <td>Telemetry</td>\n",
       "      <td>Windows Insiders</td>\n",
       "      <td>Mobile</td>\n",
       "      <td>0</td>\n",
       "      <td>0</td>\n",
       "      <td>0</td>\n",
       "      <td>0</td>\n",
       "    </tr>\n",
       "    <tr>\n",
       "      <th>17</th>\n",
       "      <td>2015-11-02T00:00:00</td>\n",
       "      <td>th2_release</td>\n",
       "      <td>10512</td>\n",
       "      <td>1000</td>\n",
       "      <td>2015-11-06T00:00:00</td>\n",
       "      <td>435.843231</td>\n",
       "      <td>56</td>\n",
       "      <td>Mobile</td>\n",
       "      <td>NaN</td>\n",
       "      <td>NaN</td>\n",
       "      <td>Telemetry</td>\n",
       "      <td>Windows Insiders</td>\n",
       "      <td>Mobile</td>\n",
       "      <td>0</td>\n",
       "      <td>0</td>\n",
       "      <td>0</td>\n",
       "      <td>0</td>\n",
       "    </tr>\n",
       "    <tr>\n",
       "      <th>18</th>\n",
       "      <td>2015-11-02T00:00:00</td>\n",
       "      <td>th2_release</td>\n",
       "      <td>10512</td>\n",
       "      <td>1000</td>\n",
       "      <td>2015-11-07T00:00:00</td>\n",
       "      <td>379.496857</td>\n",
       "      <td>51</td>\n",
       "      <td>Mobile</td>\n",
       "      <td>Other</td>\n",
       "      <td>Other</td>\n",
       "      <td>Telemetry</td>\n",
       "      <td>Windows Insiders</td>\n",
       "      <td>Mobile</td>\n",
       "      <td>0</td>\n",
       "      <td>0</td>\n",
       "      <td>0</td>\n",
       "      <td>0</td>\n",
       "    </tr>\n",
       "    <tr>\n",
       "      <th>19</th>\n",
       "      <td>2015-11-02T00:00:00</td>\n",
       "      <td>th2_release</td>\n",
       "      <td>10512</td>\n",
       "      <td>1000</td>\n",
       "      <td>2015-11-07T00:00:00</td>\n",
       "      <td>379.496857</td>\n",
       "      <td>51</td>\n",
       "      <td>Mobile</td>\n",
       "      <td>NaN</td>\n",
       "      <td>NaN</td>\n",
       "      <td>Telemetry</td>\n",
       "      <td>Windows Insiders</td>\n",
       "      <td>Mobile</td>\n",
       "      <td>0</td>\n",
       "      <td>0</td>\n",
       "      <td>0</td>\n",
       "      <td>0</td>\n",
       "    </tr>\n",
       "  </tbody>\n",
       "</table>\n",
       "</div>"
      ],
      "text/plain": [
       "              EventDate       Branch  BuildNum  BuildRev    ResultCreatedTime  \\\n",
       "0   2015-11-02T00:00:00  th2_release     10512      1000  2015-09-16T00:00:00   \n",
       "1   2015-11-02T00:00:00  th2_release     10512      1000  2015-09-16T00:00:00   \n",
       "2   2015-11-02T00:00:00  th2_release     10512      1000  2015-10-31T00:00:00   \n",
       "3   2015-11-02T00:00:00  th2_release     10512      1000  2015-10-31T00:00:00   \n",
       "4   2015-11-02T00:00:00  th2_release     10512      1000  2015-11-02T00:00:00   \n",
       "5   2015-11-02T00:00:00  th2_release     10512      1000  2015-11-02T00:00:00   \n",
       "6   2015-11-02T00:00:00  th2_release     10512      1000  2015-11-02T00:00:00   \n",
       "7   2015-11-02T00:00:00  th2_release     10512      1000  2015-11-02T00:00:00   \n",
       "8   2015-11-02T00:00:00  th2_release     10512      1000  2015-11-03T00:00:00   \n",
       "9   2015-11-02T00:00:00  th2_release     10512      1000  2015-11-03T00:00:00   \n",
       "10  2015-11-02T00:00:00  th2_release     10512      1000  2015-11-04T00:00:00   \n",
       "11  2015-11-02T00:00:00  th2_release     10512      1000  2015-11-04T00:00:00   \n",
       "12  2015-11-02T00:00:00  th2_release     10512      1000  2015-11-05T00:00:00   \n",
       "13  2015-11-02T00:00:00  th2_release     10512      1000  2015-11-05T00:00:00   \n",
       "14  2015-11-02T00:00:00  th2_release     10512      1000  2015-11-05T00:00:00   \n",
       "15  2015-11-02T00:00:00  th2_release     10512      1000  2015-11-05T00:00:00   \n",
       "16  2015-11-02T00:00:00  th2_release     10512      1000  2015-11-06T00:00:00   \n",
       "17  2015-11-02T00:00:00  th2_release     10512      1000  2015-11-06T00:00:00   \n",
       "18  2015-11-02T00:00:00  th2_release     10512      1000  2015-11-07T00:00:00   \n",
       "19  2015-11-02T00:00:00  th2_release     10512      1000  2015-11-07T00:00:00   \n",
       "\n",
       "         Value  Usage Platform Pivot3 Pivot4 DataSource              Ring  \\\n",
       "0   176.056671      3   Mobile  Other  Other  Telemetry  Windows Insiders   \n",
       "1   176.056671      3   Mobile    NaN    NaN  Telemetry  Windows Insiders   \n",
       "2   626.085600      4   Mobile  Other  Other  Telemetry  Windows Insiders   \n",
       "3   626.085600      4   Mobile    NaN    NaN  Telemetry  Windows Insiders   \n",
       "4   400.285700   2495   Mobile  Other  Other  Telemetry  Windows Insiders   \n",
       "5   449.899841     14   Mobile  Other  Other  Telemetry              MSIT   \n",
       "6   400.285700   2495   Mobile    NaN    NaN  Telemetry  Windows Insiders   \n",
       "7   449.899841     14   Mobile    NaN    NaN  Telemetry              MSIT   \n",
       "8   414.818600    480   Mobile  Other  Other  Telemetry  Windows Insiders   \n",
       "9   414.818600    480   Mobile    NaN    NaN  Telemetry  Windows Insiders   \n",
       "10  358.600525    187   Mobile  Other  Other  Telemetry  Windows Insiders   \n",
       "11  358.600525    187   Mobile    NaN    NaN  Telemetry  Windows Insiders   \n",
       "12  354.782623      1   Mobile  Other  Other  Telemetry  Windows Insiders   \n",
       "13  540.775300     51   Mobile  Other  Other  Telemetry  Windows Insiders   \n",
       "14  354.782623      1   Mobile    NaN    NaN  Telemetry  Windows Insiders   \n",
       "15  540.775300     51   Mobile    NaN    NaN  Telemetry  Windows Insiders   \n",
       "16  435.843231     56   Mobile  Other  Other  Telemetry  Windows Insiders   \n",
       "17  435.843231     56   Mobile    NaN    NaN  Telemetry  Windows Insiders   \n",
       "18  379.496857     51   Mobile  Other  Other  Telemetry  Windows Insiders   \n",
       "19  379.496857     51   Mobile    NaN    NaN  Telemetry  Windows Insiders   \n",
       "\n",
       "        SKU  Ver1  Ver2  Ver3  Ver4  \n",
       "0    Mobile     0     0     0     0  \n",
       "1    Mobile     0     0     0     0  \n",
       "2    Mobile     0     0     0     0  \n",
       "3    Mobile     0     0     0     0  \n",
       "4    Mobile     0     0     0     0  \n",
       "5    Mobile     0     0     0     0  \n",
       "6    Mobile     0     0     0     0  \n",
       "7    Mobile     0     0     0     0  \n",
       "8    Mobile     0     0     0     0  \n",
       "9    Mobile     0     0     0     0  \n",
       "10   Mobile     0     0     0     0  \n",
       "11   Mobile     0     0     0     0  \n",
       "12  Unknown     0     0     0     0  \n",
       "13   Mobile     0     0     0     0  \n",
       "14  Unknown     0     0     0     0  \n",
       "15   Mobile     0     0     0     0  \n",
       "16   Mobile     0     0     0     0  \n",
       "17   Mobile     0     0     0     0  \n",
       "18   Mobile     0     0     0     0  \n",
       "19   Mobile     0     0     0     0  "
      ]
     },
     "execution_count": 6,
     "metadata": {},
     "output_type": "execute_result"
    }
   ],
   "source": [
    "# loading data\n",
    "df = pd.read_csv(\"Data/onepd.csv\")\n",
    "df.head(20)"
   ]
  },
  {
   "cell_type": "code",
   "execution_count": 11,
   "metadata": {},
   "outputs": [
    {
     "data": {
      "text/plain": [
       "count      8067\n",
       "unique        6\n",
       "top       Other\n",
       "freq       6085\n",
       "Name: Device, dtype: object"
      ]
     },
     "execution_count": 11,
     "metadata": {},
     "output_type": "execute_result"
    }
   ],
   "source": [
    "# Examing Data\n",
    "#\n",
    "# We want to focus on the Value column. That is the milliwatts of power draw from the machine.\n",
    "# We also want to relate this to the type of machine. This is stored in the Pivot4 column.\n",
    "# We’ll begin with basic examinations. First we’ll examine the data itself. Execute each of the following commands:\n",
    "\n",
    "df[\"Device\"] = df[\"Pivot4\"]\n",
    "df[\"Device\"].describe()"
   ]
  },
  {
   "cell_type": "code",
   "execution_count": 13,
   "metadata": {},
   "outputs": [
    {
     "data": {
      "text/plain": [
       "EventDate             object\n",
       "Branch                object\n",
       "BuildNum               int64\n",
       "BuildRev               int64\n",
       "ResultCreatedTime     object\n",
       "Value                float64\n",
       "Usage                  int64\n",
       "Platform              object\n",
       "Pivot3                object\n",
       "Pivot4                object\n",
       "DataSource            object\n",
       "Ring                  object\n",
       "SKU                   object\n",
       "Ver1                   int64\n",
       "Ver2                   int64\n",
       "Ver3                   int64\n",
       "Ver4                   int64\n",
       "Device                object\n",
       "dtype: object"
      ]
     },
     "execution_count": 13,
     "metadata": {},
     "output_type": "execute_result"
    }
   ],
   "source": [
    "# check columns types\n",
    "df.dtypes"
   ]
  },
  {
   "cell_type": "code",
   "execution_count": 14,
   "metadata": {},
   "outputs": [
    {
     "data": {
      "text/plain": [
       "728.0823205267018"
      ]
     },
     "execution_count": 14,
     "metadata": {},
     "output_type": "execute_result"
    }
   ],
   "source": [
    "# check some basic statistics\n",
    "df[\"Value\"].mean()"
   ]
  },
  {
   "cell_type": "code",
   "execution_count": 15,
   "metadata": {},
   "outputs": [
    {
     "data": {
      "text/plain": [
       "509.3617"
      ]
     },
     "execution_count": 15,
     "metadata": {},
     "output_type": "execute_result"
    }
   ],
   "source": [
    "df[\"Value\"].median()"
   ]
  },
  {
   "cell_type": "code",
   "execution_count": 16,
   "metadata": {},
   "outputs": [
    {
     "data": {
      "text/plain": [
       "617.8954014853435"
      ]
     },
     "execution_count": 16,
     "metadata": {},
     "output_type": "execute_result"
    }
   ],
   "source": [
    "df[\"Value\"].std()"
   ]
  },
  {
   "cell_type": "code",
   "execution_count": 18,
   "metadata": {},
   "outputs": [
    {
     "data": {
      "text/plain": [
       "398.56515899999994"
      ]
     },
     "execution_count": 18,
     "metadata": {},
     "output_type": "execute_result"
    }
   ],
   "source": [
    "# calculate IQR\n",
    "q1 = df[\"Value\"].quantile(.25)\n",
    "q3 = df[\"Value\"].quantile(.75)\n",
    "q3 - q1"
   ]
  },
  {
   "cell_type": "code",
   "execution_count": 21,
   "metadata": {},
   "outputs": [
    {
     "data": {
      "text/plain": [
       "<matplotlib.axes._subplots.AxesSubplot at 0x1a23096828>"
      ]
     },
     "execution_count": 21,
     "metadata": {},
     "output_type": "execute_result"
    },
    {
     "data": {
      "image/png": "[encoded data removed]",
      "text/plain": [
       "<Figure size 432x288 with 1 Axes>"
      ]
     },
     "metadata": {
      "needs_background": "light"
     },
     "output_type": "display_data"
    }
   ],
   "source": [
    "# What can we tell? The range is pretty broad, but most values appear fairly close to the center. \n",
    "# What do you expect the shape of the data to be? Let’s take a look. Create a histogram and a boxplot.\n",
    "sns.distplot(df[\"Value\"])"
   ]
  },
  {
   "cell_type": "code",
   "execution_count": 22,
   "metadata": {},
   "outputs": [
    {
     "data": {
      "text/plain": [
       "<matplotlib.axes._subplots.AxesSubplot at 0x1a233deb70>"
      ]
     },
     "execution_count": 22,
     "metadata": {},
     "output_type": "execute_result"
    },
    {
     "data": {
      "image/png": "[encoded data removed]",
      "text/plain": [
       "<Figure size 432x288 with 1 Axes>"
      ]
     },
     "metadata": {
      "needs_background": "light"
     },
     "output_type": "display_data"
    }
   ],
   "source": [
    "# Plot the box plot\n",
    "sns.boxplot(x=df[\"Device\"], y=df[\"Value\"])"
   ]
  },
  {
   "cell_type": "code",
   "execution_count": 50,
   "metadata": {},
   "outputs": [
    {
     "data": {
      "text/plain": [
       "<matplotlib.legend.Legend at 0x1a2392f400>"
      ]
     },
     "execution_count": 50,
     "metadata": {},
     "output_type": "execute_result"
    },
    {
     "data": {
      "image/png": "[encoded data removed]",
      "text/plain": [
       "<Figure size 432x288 with 1 Axes>"
      ]
     },
     "metadata": {
      "needs_background": "light"
     },
     "output_type": "display_data"
    }
   ],
   "source": [
    "# The histogram is right-skewed and has one very prominent peak. \n",
    "# There are a lot of outlying data points as well–especially in Other and “”. \n",
    "# From the boxplot, we can see that there are several different ranges for power draw for the various devices, \n",
    "# but the histogram is unimodal. Why is that? Let’s do some exploration. \n",
    "# GGPlot has the ability to color the values in a histogram which may help us understand better.\n",
    "# \n",
    "# Create another histogram with the same command as above, \n",
    "# but add fill=device in the aesthetic. This will cause the color to be chosen based on the device class.\n",
    "import matplotlib.pyplot as plt\n",
    "for device in df[\"Device\"].dropna().unique():\n",
    "    t = df[df[\"Device\"] == device][\"Value\"]\n",
    "    sns.distplot(t, label=device, kde=False)\n",
    "    \n",
    "plt.legend()"
   ]
  },
  {
   "cell_type": "code",
   "execution_count": 51,
   "metadata": {},
   "outputs": [
    {
     "data": {
      "text/plain": [
       "<matplotlib.legend.Legend at 0x1a24132cf8>"
      ]
     },
     "execution_count": 51,
     "metadata": {},
     "output_type": "execute_result"
    },
    {
     "data": {
      "image/png": "[encoded data removed]",
      "text/plain": [
       "<Figure size 432x288 with 1 Axes>"
      ]
     },
     "metadata": {
      "needs_background": "light"
     },
     "output_type": "display_data"
    }
   ],
   "source": [
    "# The data appears to be dominated by Other and “”. \n",
    "# We don’t know what those are and they are not likely useful to this analysis. \n",
    "# Let’s remove them and try again. Execute these commands:\n",
    "\n",
    "import matplotlib.pyplot as plt\n",
    "df2 = df[(df[\"Device\"] != \"Other\") & (df[\"Device\"] != \"\")]\n",
    "for device in df2[\"Device\"].dropna().unique():\n",
    "    t = df2[df2[\"Device\"] == device][\"Value\"]\n",
    "    sns.distplot(t, label=device, kde=False)\n",
    "    \n",
    "plt.legend()"
   ]
  },
  {
   "cell_type": "code",
   "execution_count": 62,
   "metadata": {},
   "outputs": [
    {
     "data": {
      "text/html": [
       "<div>\n",
       "<style scoped>\n",
       "    .dataframe tbody tr th:only-of-type {\n",
       "        vertical-align: middle;\n",
       "    }\n",
       "\n",
       "    .dataframe tbody tr th {\n",
       "        vertical-align: top;\n",
       "    }\n",
       "\n",
       "    .dataframe thead th {\n",
       "        text-align: right;\n",
       "    }\n",
       "</style>\n",
       "<table border=\"1\" class=\"dataframe\">\n",
       "  <thead>\n",
       "    <tr style=\"text-align: right;\">\n",
       "      <th></th>\n",
       "      <th>Device</th>\n",
       "    </tr>\n",
       "    <tr>\n",
       "      <th>Device</th>\n",
       "      <th></th>\n",
       "    </tr>\n",
       "  </thead>\n",
       "  <tbody>\n",
       "    <tr>\n",
       "      <th>HP</th>\n",
       "      <td>124</td>\n",
       "    </tr>\n",
       "    <tr>\n",
       "      <th>Surface 3</th>\n",
       "      <td>1130</td>\n",
       "    </tr>\n",
       "    <tr>\n",
       "      <th>Surface Pro 3</th>\n",
       "      <td>340</td>\n",
       "    </tr>\n",
       "    <tr>\n",
       "      <th>surface book</th>\n",
       "      <td>211</td>\n",
       "    </tr>\n",
       "    <tr>\n",
       "      <th>surface pro 4</th>\n",
       "      <td>177</td>\n",
       "    </tr>\n",
       "  </tbody>\n",
       "</table>\n",
       "</div>"
      ],
      "text/plain": [
       "               Device\n",
       "Device               \n",
       "HP                124\n",
       "Surface 3        1130\n",
       "Surface Pro 3     340\n",
       "surface book      211\n",
       "surface pro 4     177"
      ]
     },
     "execution_count": 62,
     "metadata": {},
     "output_type": "execute_result"
    }
   ],
   "source": [
    "# Now we can see better the devices we care about. \n",
    "# How do the surfaces compare to each other and to this HP device? \n",
    "# The Surface 3 seems to dominate. Why?\n",
    "df2.groupby(\"Device\").agg({\"Device\": \"count\"})"
   ]
  },
  {
   "cell_type": "code",
   "execution_count": 65,
   "metadata": {},
   "outputs": [
    {
     "data": {
      "text/plain": [
       "<matplotlib.legend.Legend at 0x1a25bc7588>"
      ]
     },
     "execution_count": 65,
     "metadata": {},
     "output_type": "execute_result"
    },
    {
     "data": {
      "image/png": "[encoded data removed]",
      "text/plain": [
       "<Figure size 432x288 with 1 Axes>"
      ]
     },
     "metadata": {
      "needs_background": "light"
     },
     "output_type": "display_data"
    }
   ],
   "source": [
    "# That is hard to read. Everything but the Surface 3 is short. \n",
    "# We can transform the scale of the y axis with a logorithm to bring them closer together.\n",
    "df2 = df[(df[\"Device\"] != \"Other\") & (df[\"Device\"] != \"\")]\n",
    "for device in df2[\"Device\"].dropna().unique():\n",
    "    t = df2[df2[\"Device\"] == device][\"Value\"]\n",
    "    g = sns.distplot(t, label=device, kde=False)\n",
    "    g.set_yscale('log')\n",
    "    \n",
    "plt.legend()"
   ]
  },
  {
   "cell_type": "code",
   "execution_count": 105,
   "metadata": {},
   "outputs": [
    {
     "data": {
      "image/png": "[encoded data removed]",
      "text/plain": [
       "<Figure size 1800x720 with 5 Axes>"
      ]
     },
     "metadata": {
      "needs_background": "light"
     },
     "output_type": "display_data"
    }
   ],
   "source": [
    "# one more thing you can do is to split the devices into different subplot,\n",
    "# then you can easily compare them.\n",
    "import matplotlib.pyplot as plt\n",
    "\n",
    "df2 = df[(df[\"Device\"] != \"Other\") & (df[\"Device\"] != \"\")]\n",
    "unique_devices = df2[\"Device\"].dropna().unique()\n",
    "\n",
    "f, axes = plt.subplots(1, 5, figsize=(25, 10), sharex=True)\n",
    "\n",
    "for i in range(len(unique_devices)):\n",
    "    device = unique_devices[i]\n",
    "    t = df2[df2[\"Device\"] == device][\"Value\"]\n",
    "    g = sns.distplot(t, label=device, kde=False, ax=axes[i])\n",
    "    g.set_ylabel(device)\n",
    "    g.set_ylim([0, 100])\n"
   ]
  },
  {
   "cell_type": "code",
   "execution_count": null,
   "metadata": {},
   "outputs": [],
   "source": []
  },
  {
   "cell_type": "code",
   "execution_count": null,
   "metadata": {},
   "outputs": [],
   "source": []
  }
 ],
 "metadata": {
  "kernelspec": {
   "display_name": "Python 3",
   "language": "python",
   "name": "python3"
  },
  "language_info": {
   "codemirror_mode": {
    "name": "ipython",
    "version": 3
   },
   "file_extension": ".py",
   "mimetype": "text/x-python",
   "name": "python",
   "nbconvert_exporter": "python",
   "pygments_lexer": "ipython3",
   "version": "3.6.6"
  }
 },
 "nbformat": 4,
 "nbformat_minor": 2
}
