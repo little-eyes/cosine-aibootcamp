{
 "cells": [
  {
   "cell_type": "code",
   "execution_count": 18,
   "metadata": {},
   "outputs": [
    {
     "data": {
      "text/plain": [
       "[0.9634012528516256,\n",
       " 0.12438842818646093,\n",
       " 0.6523273729719814,\n",
       " 0.26713860739320383,\n",
       " 0.3665379387628882,\n",
       " 0.009165874244949596,\n",
       " 0.9727527222395967,\n",
       " 0.49414425027572284,\n",
       " 0.010513119536463703,\n",
       " 0.5996402703002919]"
      ]
     },
     "execution_count": 18,
     "metadata": {},
     "output_type": "execute_result"
    }
   ],
   "source": [
    "# This notebook is to use statsmodels package to show you how to do multiple tests.\n",
    "\n",
    "import scipy\n",
    "from statsmodels.stats.multitest import multipletests\n",
    "\n",
    "p_values = []\n",
    "for i in range(10):\n",
    "    rvs1 = scipy.stats.norm.rvs(loc=1, scale=10, size=500)\n",
    "    rvs2 = scipy.stats.norm.rvs(loc=1, scale=10, size=500)\n",
    "    stats, p_value = scipy.stats.ttest_ind(rvs1, rvs2)\n",
    "    p_values.append(p_value)\n",
    "p_values"
   ]
  },
  {
   "cell_type": "code",
   "execution_count": 19,
   "metadata": {},
   "outputs": [],
   "source": [
    "reject, pvals_corrected, alphacSidak, alphacBonf = multipletests(\n",
    "    pvals=p_values, alpha=0.05, method=\"sidak\")"
   ]
  },
  {
   "cell_type": "code",
   "execution_count": 20,
   "metadata": {},
   "outputs": [
    {
     "data": {
      "text/plain": [
       "array([False, False, False, False, False, False, False, False, False,\n",
       "       False])"
      ]
     },
     "execution_count": 20,
     "metadata": {},
     "output_type": "execute_result"
    }
   ],
   "source": [
    "reject"
   ]
  },
  {
   "cell_type": "code",
   "execution_count": 21,
   "metadata": {},
   "outputs": [
    {
     "data": {
      "text/plain": [
       "array([1.        , 0.73507989, 0.99997419, 0.95530917, 0.98959586,\n",
       "       0.08796909, 1.        , 0.99890285, 0.10029444, 0.9998942 ])"
      ]
     },
     "execution_count": 21,
     "metadata": {},
     "output_type": "execute_result"
    }
   ],
   "source": [
    "pvals_corrected"
   ]
  },
  {
   "cell_type": "code",
   "execution_count": 22,
   "metadata": {},
   "outputs": [
    {
     "data": {
      "text/plain": [
       "0.005116196891823743"
      ]
     },
     "execution_count": 22,
     "metadata": {},
     "output_type": "execute_result"
    }
   ],
   "source": [
    "alphacSidak"
   ]
  },
  {
   "cell_type": "code",
   "execution_count": 23,
   "metadata": {},
   "outputs": [
    {
     "data": {
      "text/plain": [
       "0.005"
      ]
     },
     "execution_count": 23,
     "metadata": {},
     "output_type": "execute_result"
    }
   ],
   "source": [
    "alphacBonf"
   ]
  },
  {
   "cell_type": "code",
   "execution_count": null,
   "metadata": {},
   "outputs": [],
   "source": []
  }
 ],
 "metadata": {
  "kernelspec": {
   "display_name": "Python 3",
   "language": "python",
   "name": "python3"
  },
  "language_info": {
   "codemirror_mode": {
    "name": "ipython",
    "version": 3
   },
   "file_extension": ".py",
   "mimetype": "text/x-python",
   "name": "python",
   "nbconvert_exporter": "python",
   "pygments_lexer": "ipython3",
   "version": "3.6.6"
  }
 },
 "nbformat": 4,
 "nbformat_minor": 2
}
