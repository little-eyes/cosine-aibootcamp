{
 "cells": [
  {
   "cell_type": "code",
   "execution_count": 33,
   "metadata": {},
   "outputs": [
    {
     "data": {
      "text/html": [
       "<div>\n",
       "<style scoped>\n",
       "    .dataframe tbody tr th:only-of-type {\n",
       "        vertical-align: middle;\n",
       "    }\n",
       "\n",
       "    .dataframe tbody tr th {\n",
       "        vertical-align: top;\n",
       "    }\n",
       "\n",
       "    .dataframe thead th {\n",
       "        text-align: right;\n",
       "    }\n",
       "</style>\n",
       "<table border=\"1\" class=\"dataframe\">\n",
       "  <thead>\n",
       "    <tr style=\"text-align: right;\">\n",
       "      <th></th>\n",
       "      <th>fheight</th>\n",
       "      <th>sheight</th>\n",
       "    </tr>\n",
       "  </thead>\n",
       "  <tbody>\n",
       "    <tr>\n",
       "      <th>0</th>\n",
       "      <td>65.04851</td>\n",
       "      <td>59.77827</td>\n",
       "    </tr>\n",
       "    <tr>\n",
       "      <th>1</th>\n",
       "      <td>63.25094</td>\n",
       "      <td>63.21404</td>\n",
       "    </tr>\n",
       "    <tr>\n",
       "      <th>2</th>\n",
       "      <td>64.95532</td>\n",
       "      <td>63.34242</td>\n",
       "    </tr>\n",
       "    <tr>\n",
       "      <th>3</th>\n",
       "      <td>65.75250</td>\n",
       "      <td>62.79238</td>\n",
       "    </tr>\n",
       "    <tr>\n",
       "      <th>4</th>\n",
       "      <td>61.13723</td>\n",
       "      <td>64.28113</td>\n",
       "    </tr>\n",
       "    <tr>\n",
       "      <th>5</th>\n",
       "      <td>63.02254</td>\n",
       "      <td>64.24221</td>\n",
       "    </tr>\n",
       "    <tr>\n",
       "      <th>6</th>\n",
       "      <td>65.37053</td>\n",
       "      <td>64.08231</td>\n",
       "    </tr>\n",
       "    <tr>\n",
       "      <th>7</th>\n",
       "      <td>64.72398</td>\n",
       "      <td>63.99574</td>\n",
       "    </tr>\n",
       "    <tr>\n",
       "      <th>8</th>\n",
       "      <td>66.06509</td>\n",
       "      <td>64.61338</td>\n",
       "    </tr>\n",
       "    <tr>\n",
       "      <th>9</th>\n",
       "      <td>66.96738</td>\n",
       "      <td>63.97944</td>\n",
       "    </tr>\n",
       "    <tr>\n",
       "      <th>10</th>\n",
       "      <td>59.00800</td>\n",
       "      <td>65.24451</td>\n",
       "    </tr>\n",
       "    <tr>\n",
       "      <th>11</th>\n",
       "      <td>62.93203</td>\n",
       "      <td>65.35102</td>\n",
       "    </tr>\n",
       "    <tr>\n",
       "      <th>12</th>\n",
       "      <td>63.67063</td>\n",
       "      <td>65.67992</td>\n",
       "    </tr>\n",
       "    <tr>\n",
       "      <th>13</th>\n",
       "      <td>64.07386</td>\n",
       "      <td>65.43664</td>\n",
       "    </tr>\n",
       "    <tr>\n",
       "      <th>14</th>\n",
       "      <td>64.68851</td>\n",
       "      <td>65.29391</td>\n",
       "    </tr>\n",
       "    <tr>\n",
       "      <th>15</th>\n",
       "      <td>65.15466</td>\n",
       "      <td>64.79017</td>\n",
       "    </tr>\n",
       "    <tr>\n",
       "      <th>16</th>\n",
       "      <td>66.37353</td>\n",
       "      <td>65.01881</td>\n",
       "    </tr>\n",
       "    <tr>\n",
       "      <th>17</th>\n",
       "      <td>65.57704</td>\n",
       "      <td>65.54640</td>\n",
       "    </tr>\n",
       "    <tr>\n",
       "      <th>18</th>\n",
       "      <td>67.36765</td>\n",
       "      <td>65.08145</td>\n",
       "    </tr>\n",
       "    <tr>\n",
       "      <th>19</th>\n",
       "      <td>66.75929</td>\n",
       "      <td>65.49008</td>\n",
       "    </tr>\n",
       "    <tr>\n",
       "      <th>20</th>\n",
       "      <td>67.79764</td>\n",
       "      <td>65.13520</td>\n",
       "    </tr>\n",
       "    <tr>\n",
       "      <th>21</th>\n",
       "      <td>69.53480</td>\n",
       "      <td>65.51262</td>\n",
       "    </tr>\n",
       "    <tr>\n",
       "      <th>22</th>\n",
       "      <td>62.54014</td>\n",
       "      <td>66.58436</td>\n",
       "    </tr>\n",
       "    <tr>\n",
       "      <th>23</th>\n",
       "      <td>63.81016</td>\n",
       "      <td>66.37842</td>\n",
       "    </tr>\n",
       "    <tr>\n",
       "      <th>24</th>\n",
       "      <td>64.45650</td>\n",
       "      <td>66.14782</td>\n",
       "    </tr>\n",
       "    <tr>\n",
       "      <th>25</th>\n",
       "      <td>64.96650</td>\n",
       "      <td>65.97259</td>\n",
       "    </tr>\n",
       "    <tr>\n",
       "      <th>26</th>\n",
       "      <td>64.70662</td>\n",
       "      <td>65.95887</td>\n",
       "    </tr>\n",
       "    <tr>\n",
       "      <th>27</th>\n",
       "      <td>65.73829</td>\n",
       "      <td>66.45202</td>\n",
       "    </tr>\n",
       "    <tr>\n",
       "      <th>28</th>\n",
       "      <td>65.50141</td>\n",
       "      <td>65.74797</td>\n",
       "    </tr>\n",
       "    <tr>\n",
       "      <th>29</th>\n",
       "      <td>65.55416</td>\n",
       "      <td>65.97164</td>\n",
       "    </tr>\n",
       "    <tr>\n",
       "      <th>...</th>\n",
       "      <td>...</td>\n",
       "      <td>...</td>\n",
       "    </tr>\n",
       "    <tr>\n",
       "      <th>1048</th>\n",
       "      <td>70.70290</td>\n",
       "      <td>72.07098</td>\n",
       "    </tr>\n",
       "    <tr>\n",
       "      <th>1049</th>\n",
       "      <td>72.35959</td>\n",
       "      <td>72.30647</td>\n",
       "    </tr>\n",
       "    <tr>\n",
       "      <th>1050</th>\n",
       "      <td>72.36610</td>\n",
       "      <td>72.05185</td>\n",
       "    </tr>\n",
       "    <tr>\n",
       "      <th>1051</th>\n",
       "      <td>67.17534</td>\n",
       "      <td>72.75204</td>\n",
       "    </tr>\n",
       "    <tr>\n",
       "      <th>1052</th>\n",
       "      <td>67.84045</td>\n",
       "      <td>72.79178</td>\n",
       "    </tr>\n",
       "    <tr>\n",
       "      <th>1053</th>\n",
       "      <td>68.90530</td>\n",
       "      <td>73.50606</td>\n",
       "    </tr>\n",
       "    <tr>\n",
       "      <th>1054</th>\n",
       "      <td>70.37520</td>\n",
       "      <td>73.68578</td>\n",
       "    </tr>\n",
       "    <tr>\n",
       "      <th>1055</th>\n",
       "      <td>71.18523</td>\n",
       "      <td>72.79593</td>\n",
       "    </tr>\n",
       "    <tr>\n",
       "      <th>1056</th>\n",
       "      <td>71.41254</td>\n",
       "      <td>73.41049</td>\n",
       "    </tr>\n",
       "    <tr>\n",
       "      <th>1057</th>\n",
       "      <td>71.70673</td>\n",
       "      <td>73.02077</td>\n",
       "    </tr>\n",
       "    <tr>\n",
       "      <th>1058</th>\n",
       "      <td>72.60072</td>\n",
       "      <td>73.20758</td>\n",
       "    </tr>\n",
       "    <tr>\n",
       "      <th>1059</th>\n",
       "      <td>67.57652</td>\n",
       "      <td>74.49237</td>\n",
       "    </tr>\n",
       "    <tr>\n",
       "      <th>1060</th>\n",
       "      <td>68.55814</td>\n",
       "      <td>73.81263</td>\n",
       "    </tr>\n",
       "    <tr>\n",
       "      <th>1061</th>\n",
       "      <td>70.95019</td>\n",
       "      <td>73.81376</td>\n",
       "    </tr>\n",
       "    <tr>\n",
       "      <th>1062</th>\n",
       "      <td>71.99783</td>\n",
       "      <td>73.82642</td>\n",
       "    </tr>\n",
       "    <tr>\n",
       "      <th>1063</th>\n",
       "      <td>75.17469</td>\n",
       "      <td>73.81739</td>\n",
       "    </tr>\n",
       "    <tr>\n",
       "      <th>1064</th>\n",
       "      <td>73.07157</td>\n",
       "      <td>75.57544</td>\n",
       "    </tr>\n",
       "    <tr>\n",
       "      <th>1065</th>\n",
       "      <td>69.92407</td>\n",
       "      <td>77.23474</td>\n",
       "    </tr>\n",
       "    <tr>\n",
       "      <th>1066</th>\n",
       "      <td>65.54323</td>\n",
       "      <td>60.05859</td>\n",
       "    </tr>\n",
       "    <tr>\n",
       "      <th>1067</th>\n",
       "      <td>72.56261</td>\n",
       "      <td>76.81927</td>\n",
       "    </tr>\n",
       "    <tr>\n",
       "      <th>1068</th>\n",
       "      <td>72.15051</td>\n",
       "      <td>66.72684</td>\n",
       "    </tr>\n",
       "    <tr>\n",
       "      <th>1069</th>\n",
       "      <td>63.22006</td>\n",
       "      <td>58.79456</td>\n",
       "    </tr>\n",
       "    <tr>\n",
       "      <th>1070</th>\n",
       "      <td>73.26450</td>\n",
       "      <td>67.89277</td>\n",
       "    </tr>\n",
       "    <tr>\n",
       "      <th>1071</th>\n",
       "      <td>65.81296</td>\n",
       "      <td>61.04946</td>\n",
       "    </tr>\n",
       "    <tr>\n",
       "      <th>1072</th>\n",
       "      <td>67.70657</td>\n",
       "      <td>59.81693</td>\n",
       "    </tr>\n",
       "    <tr>\n",
       "      <th>1073</th>\n",
       "      <td>66.99681</td>\n",
       "      <td>70.75232</td>\n",
       "    </tr>\n",
       "    <tr>\n",
       "      <th>1074</th>\n",
       "      <td>71.33181</td>\n",
       "      <td>68.26774</td>\n",
       "    </tr>\n",
       "    <tr>\n",
       "      <th>1075</th>\n",
       "      <td>71.78314</td>\n",
       "      <td>69.30589</td>\n",
       "    </tr>\n",
       "    <tr>\n",
       "      <th>1076</th>\n",
       "      <td>70.73837</td>\n",
       "      <td>69.30199</td>\n",
       "    </tr>\n",
       "    <tr>\n",
       "      <th>1077</th>\n",
       "      <td>70.30609</td>\n",
       "      <td>67.01500</td>\n",
       "    </tr>\n",
       "  </tbody>\n",
       "</table>\n",
       "<p>1078 rows × 2 columns</p>\n",
       "</div>"
      ],
      "text/plain": [
       "       fheight   sheight\n",
       "0     65.04851  59.77827\n",
       "1     63.25094  63.21404\n",
       "2     64.95532  63.34242\n",
       "3     65.75250  62.79238\n",
       "4     61.13723  64.28113\n",
       "5     63.02254  64.24221\n",
       "6     65.37053  64.08231\n",
       "7     64.72398  63.99574\n",
       "8     66.06509  64.61338\n",
       "9     66.96738  63.97944\n",
       "10    59.00800  65.24451\n",
       "11    62.93203  65.35102\n",
       "12    63.67063  65.67992\n",
       "13    64.07386  65.43664\n",
       "14    64.68851  65.29391\n",
       "15    65.15466  64.79017\n",
       "16    66.37353  65.01881\n",
       "17    65.57704  65.54640\n",
       "18    67.36765  65.08145\n",
       "19    66.75929  65.49008\n",
       "20    67.79764  65.13520\n",
       "21    69.53480  65.51262\n",
       "22    62.54014  66.58436\n",
       "23    63.81016  66.37842\n",
       "24    64.45650  66.14782\n",
       "25    64.96650  65.97259\n",
       "26    64.70662  65.95887\n",
       "27    65.73829  66.45202\n",
       "28    65.50141  65.74797\n",
       "29    65.55416  65.97164\n",
       "...        ...       ...\n",
       "1048  70.70290  72.07098\n",
       "1049  72.35959  72.30647\n",
       "1050  72.36610  72.05185\n",
       "1051  67.17534  72.75204\n",
       "1052  67.84045  72.79178\n",
       "1053  68.90530  73.50606\n",
       "1054  70.37520  73.68578\n",
       "1055  71.18523  72.79593\n",
       "1056  71.41254  73.41049\n",
       "1057  71.70673  73.02077\n",
       "1058  72.60072  73.20758\n",
       "1059  67.57652  74.49237\n",
       "1060  68.55814  73.81263\n",
       "1061  70.95019  73.81376\n",
       "1062  71.99783  73.82642\n",
       "1063  75.17469  73.81739\n",
       "1064  73.07157  75.57544\n",
       "1065  69.92407  77.23474\n",
       "1066  65.54323  60.05859\n",
       "1067  72.56261  76.81927\n",
       "1068  72.15051  66.72684\n",
       "1069  63.22006  58.79456\n",
       "1070  73.26450  67.89277\n",
       "1071  65.81296  61.04946\n",
       "1072  67.70657  59.81693\n",
       "1073  66.99681  70.75232\n",
       "1074  71.33181  68.26774\n",
       "1075  71.78314  69.30589\n",
       "1076  70.73837  69.30199\n",
       "1077  70.30609  67.01500\n",
       "\n",
       "[1078 rows x 2 columns]"
      ]
     },
     "execution_count": 33,
     "metadata": {},
     "output_type": "execute_result"
    }
   ],
   "source": [
    "# load the father-son dataset\n",
    "import pandas as pd\n",
    "import numpy as np\n",
    "\n",
    "df = pd.read_csv(\"father_son.csv\")\n",
    "\n",
    "# two columns are in the dataset: fheight (father height) and sh (son height)\n",
    "df"
   ]
  },
  {
   "cell_type": "code",
   "execution_count": 34,
   "metadata": {},
   "outputs": [
    {
     "data": {
      "text/plain": [
       "count    1078.000000\n",
       "mean       68.684070\n",
       "std         2.814702\n",
       "min        58.507080\n",
       "25%        66.931232\n",
       "50%        68.615820\n",
       "75%        70.465970\n",
       "max        78.364790\n",
       "Name: sheight, dtype: float64"
      ]
     },
     "execution_count": 34,
     "metadata": {},
     "output_type": "execute_result"
    }
   ],
   "source": [
    "# let's take a look at some basic statstics\n",
    "sh = df[\"sheight\"]\n",
    "sh.describe()"
   ]
  },
  {
   "cell_type": "code",
   "execution_count": 35,
   "metadata": {},
   "outputs": [
    {
     "data": {
      "text/plain": [
       "68.61582"
      ]
     },
     "execution_count": 35,
     "metadata": {},
     "output_type": "execute_result"
    }
   ],
   "source": [
    "sh.median()"
   ]
  },
  {
   "cell_type": "code",
   "execution_count": 52,
   "metadata": {},
   "outputs": [
    {
     "data": {
      "text/plain": [
       "68.61582"
      ]
     },
     "execution_count": 52,
     "metadata": {},
     "output_type": "execute_result"
    }
   ],
   "source": [
    "# Now we'll create 1000 distributions of the same length as the original sh. We'll do this by sampling sh with replacement 1000*nh times and store\n",
    "# the results in an array with 1000 rows, each with nh entries. Then we'll take the median of each row and plot the result.\n",
    "# Note that every time we draw from the empirical distribution sh, each of its nh data points is equally likely to be pulled, therefore the\n",
    "# probability of drawing any one is 1/nh. The 1000 samples we create will vary from the original.\n",
    "resampled_sh = pd.Series([sh.sample(n=1000, random_state=i).median() for i in range(1000)])\n",
    "resampled_sh.median()"
   ]
  },
  {
   "cell_type": "code",
   "execution_count": 53,
   "metadata": {},
   "outputs": [
    {
     "name": "stderr",
     "output_type": "stream",
     "text": [
      "C:\\Program Files (x86)\\Microsoft Visual Studio\\Shared\\Anaconda3_64\\lib\\site-packages\\scipy\\stats\\stats.py:1713: FutureWarning: Using a non-tuple sequence for multidimensional indexing is deprecated; use `arr[tuple(seq)]` instead of `arr[seq]`. In the future this will be interpreted as an array index, `arr[np.array(seq)]`, which will result either in an error or a different result.\n",
      "  return np.add.reduce(sorted[indexer] * weights, axis=axis) / sumval\n"
     ]
    },
    {
     "data": {
      "image/png": "[encoded data removed]",
      "text/plain": [
       "<Figure size 432x288 with 1 Axes>"
      ]
     },
     "metadata": {},
     "output_type": "display_data"
    }
   ],
   "source": [
    "# Here's the resulting density curve. This estimates the distribution of medians. The thick vertical line shows where the median of the original,\n",
    "# observed data sh lies.\n",
    "import seaborn as sns\n",
    "import matplotlib.pyplot as plt\n",
    "\n",
    "ax = sns.kdeplot(resampled_sh.values, shade=True, color=\"r\")\n",
    "sh_median = sh.median()\n",
    "ax = plt.plot([sh_median, sh_median], [0, 30], linewidth=2)"
   ]
  },
  {
   "cell_type": "code",
   "execution_count": 27,
   "metadata": {},
   "outputs": [
    {
     "data": {
      "text/plain": [
       "count    1078.000000\n",
       "mean       67.687097\n",
       "std         2.744868\n",
       "min        59.008000\n",
       "25%        65.787735\n",
       "50%        67.766600\n",
       "75%        69.602980\n",
       "max        75.433930\n",
       "Name: fheight, dtype: float64"
      ]
     },
     "execution_count": 27,
     "metadata": {},
     "output_type": "execute_result"
    }
   ],
   "source": [
    "# Pretty close, right? Now back to theory. Suppose you have a statistic that estimates some population parameter, but you don't know its sampling\n",
    "# distribution. The bootstrap principle uses the distribution defined by the observed data to approximate the sampling distribution of that\n",
    "# statistic.\n",
    "\n",
    "# The nice thing about bootstrapping is that you can always do it with simulation. The general procedure follows by first simulating B complete data\n",
    "# sets from the observed data by sampling with replacement. Make sure B is large and that you're sampling WITH replacement to create data sets the\n",
    "# same size as the original.\n",
    "\n",
    "# This approximates drawing from the sampling distribution of that statistic, at least as well as the data approximates the true population\n",
    "# distribution. By calculating the statistic for each simulated data set and using these simulated statistics we can either define a confidence\n",
    "# interval (e.g. find the 2.5 and the 97.5 percentiles) or take the standard deviation to estimate a standard error of that statistic.\n",
    "\n",
    "# Notice that this process doesn't use any fancy math or asymptotics. The only assumption behind it is that the observed sample is representative of\n",
    "# the underlying population.\n",
    "\n",
    "# We've created the vector fh for you which contains the fathers' heights from the father son data we've been working with. It's the same length as\n",
    "# the sons' data (1078) which is stored in nh. B, the number of bootstraps we want has been set to 1000. We'll do an example now in small steps.\n",
    "fh = df[\"fheight\"]\n",
    "fh.describe()"
   ]
  },
  {
   "cell_type": "code",
   "execution_count": 28,
   "metadata": {},
   "outputs": [
    {
     "data": {
      "text/plain": [
       "count    1000.000000\n",
       "mean       67.764605\n",
       "std         0.025966\n",
       "min        67.669140\n",
       "25%        67.743660\n",
       "50%        67.766600\n",
       "75%        67.778820\n",
       "max        67.840220\n",
       "dtype: float64"
      ]
     },
     "execution_count": 28,
     "metadata": {},
     "output_type": "execute_result"
    }
   ],
   "source": [
    "# Our one sample of observed data is in the vector fh. Use the pandas function sample to sample fh nh*B times. Put the\n",
    "# result in the variable resampled_fh.\n",
    "\n",
    "resampled_fh = pd.Series([fh.sample(n=1000, random_state=i).median() for i in range(1000)])\n",
    "resampled_fh.describe()"
   ]
  },
  {
   "cell_type": "code",
   "execution_count": 48,
   "metadata": {},
   "outputs": [
    {
     "data": {
      "text/plain": [
       "0.0"
      ]
     },
     "execution_count": 48,
     "metadata": {},
     "output_type": "execute_result"
    }
   ],
   "source": [
    "# Now look at the difference between the median of fh and the median of resampled_fh.\n",
    "resampled_fh.median() - fh.median()"
   ]
  },
  {
   "cell_type": "code",
   "execution_count": 49,
   "metadata": {},
   "outputs": [
    {
     "data": {
      "text/plain": [
       "0.025966030343174518"
      ]
     },
     "execution_count": 49,
     "metadata": {},
     "output_type": "execute_result"
    }
   ],
   "source": [
    "# Pretty close, right? Now use the R function sd to estimate the standard error of the vector resampled_fh.\n",
    "resampled_fh.std()"
   ]
  },
  {
   "cell_type": "code",
   "execution_count": 54,
   "metadata": {},
   "outputs": [
    {
     "data": {
      "text/plain": [
       "0.015996585422527965"
      ]
     },
     "execution_count": 54,
     "metadata": {},
     "output_type": "execute_result"
    }
   ],
   "source": [
    "# We previously did this same process for the sons' data and stored the resampled medians in the 1000-long vector resampled_sh. Find the standard\n",
    "# error of resampled_sh.\n",
    "resampled_sh.std()"
   ]
  },
  {
   "cell_type": "code",
   "execution_count": 55,
   "metadata": {},
   "outputs": [
    {
     "data": {
      "text/plain": [
       "0.025    68.592865\n",
       "0.975    68.652110\n",
       "dtype: float64"
      ]
     },
     "execution_count": 55,
     "metadata": {},
     "output_type": "execute_result"
    }
   ],
   "source": [
    "# Now we'll find a 95% confidence interval for the sons' data with the pandas function quantile. The first argument is the vector of resampled_sh and\n",
    "# the second is the expression c(.025,.975). Do this now.\n",
    "resampled_sh.quantile([0.025, 0.975])"
   ]
  },
  {
   "cell_type": "code",
   "execution_count": 56,
   "metadata": {},
   "outputs": [
    {
     "data": {
      "text/plain": [
       "0.025    67.711610\n",
       "0.975    67.810885\n",
       "dtype: float64"
      ]
     },
     "execution_count": 56,
     "metadata": {},
     "output_type": "execute_result"
    }
   ],
   "source": [
    "# Pretty close quantiles, right? Now do the same thing for the fathers' data. Recall that it's stored in the vector resampled_fh.\n",
    "resampled_fh.quantile([0.025, 0.975])"
   ]
  },
  {
   "cell_type": "code",
   "execution_count": 60,
   "metadata": {},
   "outputs": [
    {
     "data": {
      "image/png": "[encoded data removed]",
      "text/plain": [
       "<Figure size 432x288 with 1 Axes>"
      ]
     },
     "metadata": {},
     "output_type": "display_data"
    }
   ],
   "source": [
    "# Another pair of close quantiles, but notice that these quantiles of the fathers' medians differ from those of the sons.\n",
    "\n",
    "# Bootstrapping is a very diverse and complicated topic and we just skimmed the surface here. The technique we showed you is nonparametric, that is,\n",
    "# it's not based on any parameterized family of probability distributions. We used only one set of observations that we assumed to be representative\n",
    "# of the population.\n",
    "\n",
    "# Finally, the confidence intervals we calculated might not perform very well because of biases but the R package bootstrap provides an easy fix for\n",
    "# this problem.\n",
    "\n",
    "# Now, to permutation testing, another handy tool used in group comparisons. As bootstrapping did, permutation testing samples a single dataset a\n",
    "# zillion times and calculates a statistic based on these samplings.\n",
    "\n",
    "# Permutation testing, however, is based on the idea of exchangability of group labels. It measures whether or not outcomes are independent of group\n",
    "# identity. Our zillion samples simply permute group labels associated with outcomes. We'll see an example of this.\n",
    "\n",
    "# Here's a picture from the dataset InsectSprays which contains counts of the number of bugs killed by six different sprays.\n",
    "\n",
    "# We'll use permutation testing to compare Spray B with Spray C.\n",
    "\n",
    "insect_sparys = pd.read_csv(\"insect-spary.csv\")\n",
    "ax = sns.boxplot(x=\"spray\", y=\"count\", data=insect_sparys)"
   ]
  },
  {
   "cell_type": "code",
   "execution_count": 58,
   "metadata": {},
   "outputs": [
    {
     "data": {
      "text/plain": [
       "(72, 3)"
      ]
     },
     "execution_count": 58,
     "metadata": {},
     "output_type": "execute_result"
    }
   ],
   "source": [
    "# Use pandas function shape to find the dimensions of InsectSprays.\n",
    "insect_sparys.shape"
   ]
  },
  {
   "cell_type": "code",
   "execution_count": 59,
   "metadata": {},
   "outputs": [
    {
     "data": {
      "text/plain": [
       "Index(['Unnamed: 0', 'count', 'spray'], dtype='object')"
      ]
     },
     "execution_count": 59,
     "metadata": {},
     "output_type": "execute_result"
    }
   ],
   "source": [
    "# Now use the pandas function columns to find what the two columns of InsectSprays contain.\n",
    "insect_sparys.columns"
   ]
  },
  {
   "cell_type": "code",
   "execution_count": 66,
   "metadata": {},
   "outputs": [
    {
     "data": {
      "text/plain": [
       "(7, 21)"
      ]
     },
     "execution_count": 66,
     "metadata": {},
     "output_type": "execute_result"
    }
   ],
   "source": [
    "# We'll use permutation testing to compare Spray B with Spray C. We subsetted data for these two sprays into a data frame subdata. Moreover, the two\n",
    "# data frames Bdata and Cdata contain the data for their respective sprays.\n",
    "\n",
    "# Now use the pandas min/max function to find the minimum and maximum counts for Spray B.\n",
    "Bdata = insect_sparys[insect_sparys[\"spray\"] == \"B\"]\n",
    "(Bdata[\"count\"].min(), Bdata[\"count\"].max())"
   ]
  },
  {
   "cell_type": "code",
   "execution_count": 67,
   "metadata": {},
   "outputs": [
    {
     "data": {
      "text/plain": [
       "(0, 7)"
      ]
     },
     "execution_count": 67,
     "metadata": {},
     "output_type": "execute_result"
    }
   ],
   "source": [
    "# The picture makes more sense now, right? Now do the same for Spray C. Its data is in Cdata.\n",
    "Cdata = insect_sparys[insect_sparys[\"spray\"] == \"C\"]\n",
    "(Cdata[\"count\"].min(), Cdata[\"count\"].max())"
   ]
  },
  {
   "cell_type": "code",
   "execution_count": 83,
   "metadata": {},
   "outputs": [
    {
     "data": {
      "text/plain": [
       "13.25"
      ]
     },
     "execution_count": 83,
     "metadata": {},
     "output_type": "execute_result"
    }
   ],
   "source": [
    "# From the ranges (as well as the picture), the sprays look a lot different. We'll test the (obviously false) null hypothesis that their means are\n",
    "# the same.\n",
    "\n",
    "def testStat(Bdata, Cdata):\n",
    "    return Bdata[\"count\"].mean() - Cdata[\"count\"].mean()\n",
    "\n",
    "# We have created a testStat function for you, then you can run it against Bdata and Cdata.\n",
    "obs = testStat(Bdata, Cdata)\n",
    "obs"
   ]
  },
  {
   "cell_type": "code",
   "execution_count": 98,
   "metadata": {},
   "outputs": [
    {
     "data": {
      "text/html": [
       "<div>\n",
       "<style scoped>\n",
       "    .dataframe tbody tr th:only-of-type {\n",
       "        vertical-align: middle;\n",
       "    }\n",
       "\n",
       "    .dataframe tbody tr th {\n",
       "        vertical-align: top;\n",
       "    }\n",
       "\n",
       "    .dataframe thead th {\n",
       "        text-align: right;\n",
       "    }\n",
       "</style>\n",
       "<table border=\"1\" class=\"dataframe\">\n",
       "  <thead>\n",
       "    <tr style=\"text-align: right;\">\n",
       "      <th></th>\n",
       "      <th>index</th>\n",
       "      <th>Unnamed: 0</th>\n",
       "      <th>count</th>\n",
       "      <th>spray</th>\n",
       "    </tr>\n",
       "  </thead>\n",
       "  <tbody>\n",
       "    <tr>\n",
       "      <th>0</th>\n",
       "      <td>12</td>\n",
       "      <td>13</td>\n",
       "      <td>11</td>\n",
       "      <td>B</td>\n",
       "    </tr>\n",
       "    <tr>\n",
       "      <th>1</th>\n",
       "      <td>13</td>\n",
       "      <td>14</td>\n",
       "      <td>17</td>\n",
       "      <td>B</td>\n",
       "    </tr>\n",
       "    <tr>\n",
       "      <th>2</th>\n",
       "      <td>14</td>\n",
       "      <td>15</td>\n",
       "      <td>21</td>\n",
       "      <td>B</td>\n",
       "    </tr>\n",
       "    <tr>\n",
       "      <th>3</th>\n",
       "      <td>15</td>\n",
       "      <td>16</td>\n",
       "      <td>11</td>\n",
       "      <td>B</td>\n",
       "    </tr>\n",
       "    <tr>\n",
       "      <th>4</th>\n",
       "      <td>16</td>\n",
       "      <td>17</td>\n",
       "      <td>16</td>\n",
       "      <td>B</td>\n",
       "    </tr>\n",
       "    <tr>\n",
       "      <th>5</th>\n",
       "      <td>17</td>\n",
       "      <td>18</td>\n",
       "      <td>14</td>\n",
       "      <td>B</td>\n",
       "    </tr>\n",
       "    <tr>\n",
       "      <th>6</th>\n",
       "      <td>18</td>\n",
       "      <td>19</td>\n",
       "      <td>17</td>\n",
       "      <td>B</td>\n",
       "    </tr>\n",
       "    <tr>\n",
       "      <th>7</th>\n",
       "      <td>19</td>\n",
       "      <td>20</td>\n",
       "      <td>17</td>\n",
       "      <td>B</td>\n",
       "    </tr>\n",
       "    <tr>\n",
       "      <th>8</th>\n",
       "      <td>20</td>\n",
       "      <td>21</td>\n",
       "      <td>19</td>\n",
       "      <td>B</td>\n",
       "    </tr>\n",
       "    <tr>\n",
       "      <th>9</th>\n",
       "      <td>21</td>\n",
       "      <td>22</td>\n",
       "      <td>21</td>\n",
       "      <td>B</td>\n",
       "    </tr>\n",
       "    <tr>\n",
       "      <th>10</th>\n",
       "      <td>22</td>\n",
       "      <td>23</td>\n",
       "      <td>7</td>\n",
       "      <td>B</td>\n",
       "    </tr>\n",
       "    <tr>\n",
       "      <th>11</th>\n",
       "      <td>23</td>\n",
       "      <td>24</td>\n",
       "      <td>13</td>\n",
       "      <td>B</td>\n",
       "    </tr>\n",
       "    <tr>\n",
       "      <th>12</th>\n",
       "      <td>24</td>\n",
       "      <td>25</td>\n",
       "      <td>0</td>\n",
       "      <td>C</td>\n",
       "    </tr>\n",
       "    <tr>\n",
       "      <th>13</th>\n",
       "      <td>25</td>\n",
       "      <td>26</td>\n",
       "      <td>1</td>\n",
       "      <td>C</td>\n",
       "    </tr>\n",
       "    <tr>\n",
       "      <th>14</th>\n",
       "      <td>26</td>\n",
       "      <td>27</td>\n",
       "      <td>7</td>\n",
       "      <td>C</td>\n",
       "    </tr>\n",
       "    <tr>\n",
       "      <th>15</th>\n",
       "      <td>27</td>\n",
       "      <td>28</td>\n",
       "      <td>2</td>\n",
       "      <td>C</td>\n",
       "    </tr>\n",
       "    <tr>\n",
       "      <th>16</th>\n",
       "      <td>28</td>\n",
       "      <td>29</td>\n",
       "      <td>3</td>\n",
       "      <td>C</td>\n",
       "    </tr>\n",
       "    <tr>\n",
       "      <th>17</th>\n",
       "      <td>29</td>\n",
       "      <td>30</td>\n",
       "      <td>1</td>\n",
       "      <td>C</td>\n",
       "    </tr>\n",
       "    <tr>\n",
       "      <th>18</th>\n",
       "      <td>30</td>\n",
       "      <td>31</td>\n",
       "      <td>2</td>\n",
       "      <td>C</td>\n",
       "    </tr>\n",
       "    <tr>\n",
       "      <th>19</th>\n",
       "      <td>31</td>\n",
       "      <td>32</td>\n",
       "      <td>1</td>\n",
       "      <td>C</td>\n",
       "    </tr>\n",
       "    <tr>\n",
       "      <th>20</th>\n",
       "      <td>32</td>\n",
       "      <td>33</td>\n",
       "      <td>3</td>\n",
       "      <td>C</td>\n",
       "    </tr>\n",
       "    <tr>\n",
       "      <th>21</th>\n",
       "      <td>33</td>\n",
       "      <td>34</td>\n",
       "      <td>0</td>\n",
       "      <td>C</td>\n",
       "    </tr>\n",
       "    <tr>\n",
       "      <th>22</th>\n",
       "      <td>34</td>\n",
       "      <td>35</td>\n",
       "      <td>1</td>\n",
       "      <td>C</td>\n",
       "    </tr>\n",
       "    <tr>\n",
       "      <th>23</th>\n",
       "      <td>35</td>\n",
       "      <td>36</td>\n",
       "      <td>4</td>\n",
       "      <td>C</td>\n",
       "    </tr>\n",
       "  </tbody>\n",
       "</table>\n",
       "</div>"
      ],
      "text/plain": [
       "    index  Unnamed: 0  count spray\n",
       "0      12          13     11     B\n",
       "1      13          14     17     B\n",
       "2      14          15     21     B\n",
       "3      15          16     11     B\n",
       "4      16          17     16     B\n",
       "5      17          18     14     B\n",
       "6      18          19     17     B\n",
       "7      19          20     17     B\n",
       "8      20          21     19     B\n",
       "9      21          22     21     B\n",
       "10     22          23      7     B\n",
       "11     23          24     13     B\n",
       "12     24          25      0     C\n",
       "13     25          26      1     C\n",
       "14     26          27      7     C\n",
       "15     27          28      2     C\n",
       "16     28          29      3     C\n",
       "17     29          30      1     C\n",
       "18     30          31      2     C\n",
       "19     31          32      1     C\n",
       "20     32          33      3     C\n",
       "21     33          34      0     C\n",
       "22     34          35      1     C\n",
       "23     35          36      4     C"
      ]
     },
     "execution_count": 98,
     "metadata": {},
     "output_type": "execute_result"
    }
   ],
   "source": [
    "# Now this is where the permutation testing starts to involve resampling. We're going to test whether or not the particular group association of the\n",
    "# counts affects the difference of the means.\n",
    "BCdata = pd.concat([Bdata, Cdata]).reset_index()\n",
    "BCdata"
   ]
  },
  {
   "cell_type": "code",
   "execution_count": 104,
   "metadata": {},
   "outputs": [],
   "source": [
    "# The labels are all mixed up now. We'll do this permuting of labels and then we'll recalculate the difference of the means of the two \"new\" (really\n",
    "# newly labelled) groups.\n",
    "\n",
    "perms = []\n",
    "for i in range(10000):\n",
    "    BCdata[\"spray\"] = pd.Series(np.random.permutation(BCdata[\"spray\"]))\n",
    "    perms.append(testStat(BCdata[BCdata[\"spray\"] == \"B\"], BCdata[BCdata[\"spray\"] == \"C\"]))"
   ]
  },
  {
   "cell_type": "code",
   "execution_count": 107,
   "metadata": {},
   "outputs": [
    {
     "data": {
      "text/plain": [
       "0.0"
      ]
     },
     "execution_count": 107,
     "metadata": {},
     "output_type": "execute_result"
    }
   ],
   "source": [
    "# We can take the mean of the virtual array of the boolean expression perms > obs. Do this now.\n",
    "np.mean([1 if p > obs else 0 for p in perms])"
   ]
  },
  {
   "cell_type": "code",
   "execution_count": 108,
   "metadata": {},
   "outputs": [
    {
     "name": "stderr",
     "output_type": "stream",
     "text": [
      "C:\\Program Files (x86)\\Microsoft Visual Studio\\Shared\\Anaconda3_64\\lib\\site-packages\\scipy\\stats\\stats.py:1713: FutureWarning: Using a non-tuple sequence for multidimensional indexing is deprecated; use `arr[tuple(seq)]` instead of `arr[seq]`. In the future this will be interpreted as an array index, `arr[np.array(seq)]`, which will result either in an error or a different result.\n",
      "  return np.add.reduce(sorted[indexer] * weights, axis=axis) / sumval\n"
     ]
    },
    {
     "data": {
      "image/png": "[encoded data removed]",
      "text/plain": [
       "<Figure size 432x288 with 1 Axes>"
      ]
     },
     "metadata": {},
     "output_type": "display_data"
    }
   ],
   "source": [
    "# So on average 0 of the permutations had a difference greater than the observed. That means we would reject the null hypothesis that the means of\n",
    "# the two sprays were equal.\n",
    "\n",
    "# Here's a histogram of the difference of the means. Looks pretty normal, right? We can see that the distribution runs roughly between -10 and +10\n",
    "# and it's centered around 0. The vertical line shows where the observed difference of means was and we see that it's pretty far away from the\n",
    "# distribution of the resampled permutations. This means that group identification did matter and sprays B and C were quite different.\n",
    "\n",
    "ax = sns.distplot(perms)"
   ]
  },
  {
   "cell_type": "code",
   "execution_count": 109,
   "metadata": {},
   "outputs": [
    {
     "data": {
      "image/png": "[encoded data removed]",
      "text/plain": [
       "<Figure size 432x288 with 1 Axes>"
      ]
     },
     "metadata": {},
     "output_type": "display_data"
    }
   ],
   "source": [
    "# Here's the picture of the InsectSprays again. Suppose we run the same experiment, this time comparing sprays D and E, which look more alike. We've\n",
    "# redefined testStat to look at these sprays and subtract the mean of spray E from the mean of spray D.\n",
    "\n",
    "ax = sns.boxplot(x=\"spray\", y=\"count\", data=insect_sparys)"
   ]
  },
  {
   "cell_type": "code",
   "execution_count": null,
   "metadata": {},
   "outputs": [],
   "source": [
    "# We've also stored off the D and E data in DEcounts and the group labels in group. Run testStat now with DEcounts and group.\n"
   ]
  }
 ],
 "metadata": {
  "kernelspec": {
   "display_name": "Python 3",
   "language": "python",
   "name": "python3"
  },
  "language_info": {
   "codemirror_mode": {
    "name": "ipython",
    "version": 3
   },
   "file_extension": ".py",
   "mimetype": "text/x-python",
   "name": "python",
   "nbconvert_exporter": "python",
   "pygments_lexer": "ipython3",
   "version": "3.6.5"
  }
 },
 "nbformat": 4,
 "nbformat_minor": 2
}
