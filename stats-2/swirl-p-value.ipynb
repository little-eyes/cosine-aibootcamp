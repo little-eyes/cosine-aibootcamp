{
 "cells": [
  {
   "cell_type": "code",
   "execution_count": 1,
   "metadata": {},
   "outputs": [],
   "source": [
    "# In this lesson, as the name suggests, we'll discuss p-values which\n",
    "# have nothing to do with urological testing. Instead they are the\n",
    "# most common measure of statistical significance.\n",
    "\n",
    "# However, because they're popular they're used a lot, and often\n",
    "# they're misused or misinterpreted. In this lecture we'll focus on\n",
    "# how to generate them and interpret them correctly.\n",
    "\n",
    "# The question motivating p-values is this. Given that we have some\n",
    "# null hypothesis concerning our data (for example, its mean), how\n",
    "# unusual or extreme is the sample value we get from our data? Is\n",
    "# our test statistic consistent with our hypothesis? So there are,\n",
    "# implicitly, three steps we have to take to answer these types of\n",
    "# questions."
   ]
  },
  {
   "cell_type": "code",
   "execution_count": 23,
   "metadata": {},
   "outputs": [
    {
     "data": {
      "text/plain": [
       "array([0.70190223, 0.22967982])"
      ]
     },
     "execution_count": 23,
     "metadata": {},
     "output_type": "execute_result"
    }
   ],
   "source": [
    "from scipy import stats\n",
    "\n",
    "# create a normal distribution random variables\n",
    "rvs = stats.norm.rvs(loc=5, scale=10, size=(50,2))\n",
    "\n",
    "# This is a two-sided test for the null hypothesis that the expected value (mean) \n",
    "# of a sample of independent observations ‘a’ is equal to the given population mean, \n",
    "# popmean. Let us consider the following example.\n",
    "stats, p_value = stats.ttest_1samp(rvs, 5.0)\n",
    "\n",
    "p_value"
   ]
  },
  {
   "cell_type": "code",
   "execution_count": 31,
   "metadata": {},
   "outputs": [
    {
     "data": {
      "text/plain": [
       "array([0.95711003])"
      ]
     },
     "execution_count": 31,
     "metadata": {},
     "output_type": "execute_result"
    }
   ],
   "source": [
    "# ttest_ind − Calculates the T-test for the means of two independent samples of scores. \n",
    "# This is a two-sided test for the null hypothesis that two independent samples have \n",
    "# identical average (expected) values. This test assumes that the populations have \n",
    "# identical variances by default.\n",
    "\n",
    "# We can use this test, if we observe two independent samples from the same or different \n",
    "# population. Let us consider the following example.\n",
    "from scipy import stats\n",
    "\n",
    "rvs1 = norm.rvs(loc=5,scale=10,size=(500,1))\n",
    "rvs2 = norm.rvs(loc=5,scale=10,size=(500,1))\n",
    "stats, p_value = stats.ttest_ind(rvs1, rvs2)\n",
    "p_value"
   ]
  },
  {
   "cell_type": "code",
   "execution_count": null,
   "metadata": {},
   "outputs": [],
   "source": []
  }
 ],
 "metadata": {
  "kernelspec": {
   "display_name": "Python 3",
   "language": "python",
   "name": "python3"
  },
  "language_info": {
   "codemirror_mode": {
    "name": "ipython",
    "version": 3
   },
   "file_extension": ".py",
   "mimetype": "text/x-python",
   "name": "python",
   "nbconvert_exporter": "python",
   "pygments_lexer": "ipython3",
   "version": "3.6.6"
  }
 },
 "nbformat": 4,
 "nbformat_minor": 2
}
